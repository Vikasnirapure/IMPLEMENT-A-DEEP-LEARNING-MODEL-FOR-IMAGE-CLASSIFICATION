{
 "cells": [
  {
   "cell_type": "code",
   "execution_count": 1,
   "id": "b2bc3c68-771e-4c79-b0e0-b89e0fa238e3",
   "metadata": {},
   "outputs": [
    {
     "name": "stdout",
     "output_type": "stream",
     "text": [
      "Found 2301 images belonging to 10 classes.\n",
      "{'Apple': 0, 'Banana': 1, 'avocado': 2, 'cherry': 3, 'kiwi': 4, 'mango': 5, 'orange': 6, 'pinenapple': 7, 'strawberries': 8, 'watermelon': 9}\n"
     ]
    }
   ],
   "source": [
    "from tensorflow.keras.preprocessing.image import ImageDataGenerator\n",
    "\n",
    "datagen = ImageDataGenerator(rescale=1./255)  # Normalize pixel values\n",
    "\n",
    "dataset_path = \"C:/Users/nirap/OneDrive/Desktop/archive/MY_data/train/\" #Update with your dataset path\n",
    "\n",
    "# Load dataset\n",
    "train_generator = datagen.flow_from_directory(\n",
    "    dataset_path,\n",
    "    target_size=(100, 100),  # Resize images\n",
    "    batch_size=32,\n",
    "    class_mode=\"categorical\"\n",
    ")\n",
    "\n",
    "# Get class labels\n",
    "print(train_generator.class_indices)\n"
   ]
  },
  {
   "cell_type": "code",
   "execution_count": null,
   "id": "0781c3d6-8407-4635-8dc4-756cbc9b5a9c",
   "metadata": {},
   "outputs": [
    {
     "name": "stdout",
     "output_type": "stream",
     "text": [
      "Found 1841 images belonging to 10 classes.\n",
      "Found 460 images belonging to 10 classes.\n",
      "Class labels: ['Apple', 'Banana', 'avocado', 'cherry', 'kiwi', 'mango', 'orange', 'pinenapple', 'strawberries', 'watermelon']\n"
     ]
    },
    {
     "name": "stderr",
     "output_type": "stream",
     "text": [
      "C:\\Users\\nirap\\AppData\\Local\\Programs\\Python\\Python311\\Lib\\site-packages\\keras\\src\\layers\\convolutional\\base_conv.py:107: UserWarning: Do not pass an `input_shape`/`input_dim` argument to a layer. When using Sequential models, prefer using an `Input(shape)` object as the first layer in the model instead.\n",
      "  super().__init__(activity_regularizer=activity_regularizer, **kwargs)\n",
      "C:\\Users\\nirap\\AppData\\Local\\Programs\\Python\\Python311\\Lib\\site-packages\\keras\\src\\trainers\\data_adapters\\py_dataset_adapter.py:121: UserWarning: Your `PyDataset` class should call `super().__init__(**kwargs)` in its constructor. `**kwargs` can include `workers`, `use_multiprocessing`, `max_queue_size`. Do not pass these arguments to `fit()`, as they will be ignored.\n",
      "  self._warn_if_super_not_called()\n"
     ]
    },
    {
     "name": "stdout",
     "output_type": "stream",
     "text": [
      "Epoch 1/10\n",
      "\u001b[1m58/58\u001b[0m \u001b[32m━━━━━━━━━━━━━━━━━━━━\u001b[0m\u001b[37m\u001b[0m \u001b[1m0s\u001b[0m 880ms/step - accuracy: 0.1619 - loss: 2.2917"
     ]
    },
    {
     "name": "stderr",
     "output_type": "stream",
     "text": [
      "C:\\Users\\nirap\\AppData\\Local\\Programs\\Python\\Python311\\Lib\\site-packages\\keras\\src\\trainers\\data_adapters\\py_dataset_adapter.py:121: UserWarning: Your `PyDataset` class should call `super().__init__(**kwargs)` in its constructor. `**kwargs` can include `workers`, `use_multiprocessing`, `max_queue_size`. Do not pass these arguments to `fit()`, as they will be ignored.\n",
      "  self._warn_if_super_not_called()\n"
     ]
    },
    {
     "name": "stdout",
     "output_type": "stream",
     "text": [
      "\u001b[1m58/58\u001b[0m \u001b[32m━━━━━━━━━━━━━━━━━━━━\u001b[0m\u001b[37m\u001b[0m \u001b[1m62s\u001b[0m 1s/step - accuracy: 0.1631 - loss: 2.2870 - val_accuracy: 0.3609 - val_loss: 1.6770\n",
      "Epoch 2/10\n",
      "\u001b[1m58/58\u001b[0m \u001b[32m━━━━━━━━━━━━━━━━━━━━\u001b[0m\u001b[37m\u001b[0m \u001b[1m35s\u001b[0m 596ms/step - accuracy: 0.3653 - loss: 1.6564 - val_accuracy: 0.4130 - val_loss: 1.5482\n",
      "Epoch 3/10\n",
      "\u001b[1m58/58\u001b[0m \u001b[32m━━━━━━━━━━━━━━━━━━━━\u001b[0m\u001b[37m\u001b[0m \u001b[1m34s\u001b[0m 583ms/step - accuracy: 0.4183 - loss: 1.4955 - val_accuracy: 0.4587 - val_loss: 1.3953\n",
      "Epoch 4/10\n",
      "\u001b[1m58/58\u001b[0m \u001b[32m━━━━━━━━━━━━━━━━━━━━\u001b[0m\u001b[37m\u001b[0m \u001b[1m33s\u001b[0m 572ms/step - accuracy: 0.4781 - loss: 1.3460 - val_accuracy: 0.5217 - val_loss: 1.3206\n",
      "Epoch 5/10\n",
      "\u001b[1m58/58\u001b[0m \u001b[32m━━━━━━━━━━━━━━━━━━━━\u001b[0m\u001b[37m\u001b[0m \u001b[1m33s\u001b[0m 566ms/step - accuracy: 0.5307 - loss: 1.2716 - val_accuracy: 0.4804 - val_loss: 1.3759\n",
      "Epoch 6/10\n",
      "\u001b[1m58/58\u001b[0m \u001b[32m━━━━━━━━━━━━━━━━━━━━\u001b[0m\u001b[37m\u001b[0m \u001b[1m35s\u001b[0m 609ms/step - accuracy: 0.5094 - loss: 1.3108 - val_accuracy: 0.5413 - val_loss: 1.1747\n",
      "Epoch 7/10\n",
      "\u001b[1m47/58\u001b[0m \u001b[32m━━━━━━━━━━━━━━━━\u001b[0m\u001b[37m━━━━\u001b[0m \u001b[1m7s\u001b[0m 663ms/step - accuracy: 0.5675 - loss: 1.2070"
     ]
    }
   ],
   "source": [
    "import tensorflow as tf\n",
    "import numpy as np\n",
    "import matplotlib.pyplot as plt\n",
    "import os\n",
    "from tensorflow.keras.preprocessing.image import ImageDataGenerator\n",
    "\n",
    "# Define dataset path (update this with your dataset directory)\n",
    "data_dir = \"C:/Users/nirap/OneDrive/Desktop/archive/MY_data/train/\"\n",
    "\n",
    "# Image data generator for augmentation\n",
    "train_datagen = ImageDataGenerator(\n",
    "    rescale=1./255, rotation_range=20, width_shift_range=0.2,\n",
    "    height_shift_range=0.2, shear_range=0.2, zoom_range=0.2,\n",
    "    horizontal_flip=True, validation_split=0.2)\n",
    "\n",
    "# Load training and validation datasets\n",
    "train_generator = train_datagen.flow_from_directory(\n",
    "    data_dir, target_size=(150, 150), batch_size=32, class_mode='categorical', subset='training')\n",
    "\n",
    "validation_generator = train_datagen.flow_from_directory(\n",
    "    data_dir, target_size=(150, 150), batch_size=32, class_mode='categorical', subset='validation')\n",
    "\n",
    "# Get class labels\n",
    "class_labels = list(train_generator.class_indices.keys())\n",
    "print(\"Class labels:\", class_labels)\n",
    "\n",
    "# Define CNN model\n",
    "model = tf.keras.models.Sequential([\n",
    "    tf.keras.layers.Conv2D(32, (3,3), activation='relu', input_shape=(150, 150, 3)),\n",
    "    tf.keras.layers.MaxPooling2D(2,2),\n",
    "    tf.keras.layers.Conv2D(64, (3,3), activation='relu'),\n",
    "    tf.keras.layers.MaxPooling2D(2,2),\n",
    "    tf.keras.layers.Conv2D(128, (3,3), activation='relu'),\n",
    "    tf.keras.layers.MaxPooling2D(2,2),\n",
    "    tf.keras.layers.Flatten(),\n",
    "    tf.keras.layers.Dense(128, activation='relu'),\n",
    "    tf.keras.layers.Dense(len(class_labels), activation='softmax')\n",
    "])\n",
    "\n",
    "# Compile the model\n",
    "model.compile(optimizer='adam', loss='categorical_crossentropy', metrics=['accuracy'])\n",
    "\n",
    "# Train the model\n",
    "history = model.fit(train_generator, validation_data=validation_generator, epochs=10)\n",
    "\n",
    "# Save the model\n",
    "model.save(\"fruit_classifier.h5\")\n",
    "\n",
    "# Plot training history\n",
    "def plot_training_history(history):\n",
    "    plt.figure(figsize=(12, 5))\n",
    "    \n",
    "    plt.subplot(1, 2, 1)\n",
    "    plt.plot(history.history['accuracy'], label='Train Accuracy')\n",
    "    plt.plot(history.history['val_accuracy'], label='Validation Accuracy')\n",
    "    plt.xlabel('Epochs')\n",
    "    plt.ylabel('Accuracy')\n",
    "    plt.legend()\n",
    "    plt.title('Model Accuracy')\n",
    "    \n",
    "    plt.subplot(1, 2, 2)\n",
    "    plt.plot(history.history['loss'], label='Train Loss')\n",
    "    plt.plot(history.history['val_loss'], label='Validation Loss')\n",
    "    plt.xlabel('Epochs')\n",
    "    plt.ylabel('Loss')\n",
    "    plt.legend()\n",
    "    plt.title('Model Loss')\n",
    "    \n",
    "    plt.show()\n",
    "\n",
    "plot_training_history(history)\n",
    "\n"
   ]
  },
  {
   "cell_type": "code",
   "execution_count": null,
   "id": "0fc47c6d-0fcf-4906-be04-4ea9500cf0e4",
   "metadata": {},
   "outputs": [],
   "source": [
    "# Function to predict a single image\n",
    "def predict_image(image_path, model):\n",
    "    from tensorflow.keras.preprocessing import image\n",
    "    img = image.load_img(image_path, target_size=(150, 150))\n",
    "    img_array = image.img_to_array(img) / 255.0\n",
    "    img_array = np.expand_dims(img_array, axis=0)\n",
    "    prediction = model.predict(img_array)\n",
    "    predicted_class = class_labels[np.argmax(prediction)]\n",
    "    print(f\"Predicted Fruit: {predicted_class}\")\n",
    "    \n",
    "    plt.imshow(img)\n",
    "    plt.title(f\"Prediction: {predicted_class}\")\n",
    "    plt.axis('off')\n",
    "    plt.show()\n",
    "\n",
    "# Example Usage (Provide your test image path)\n",
    "predict_image(\"C:/Users/nirap/OneDrive/Desktop/download.jpg\", model)\n"
   ]
  },
  {
   "cell_type": "code",
   "execution_count": 13,
   "id": "be3e94af-a52f-4cb0-be72-bf5d1f37254e",
   "metadata": {},
   "outputs": [
    {
     "data": {
      "text/plain": [
       "['Apple',\n",
       " 'Banana',\n",
       " 'avocado',\n",
       " 'cherry',\n",
       " 'kiwi',\n",
       " 'mango',\n",
       " 'orange',\n",
       " 'pinenapple',\n",
       " 'strawberries',\n",
       " 'watermelon']"
      ]
     },
     "execution_count": 13,
     "metadata": {},
     "output_type": "execute_result"
    }
   ],
   "source": [
    "class_labels"
   ]
  },
  {
   "cell_type": "code",
   "execution_count": null,
   "id": "be1e420a-2702-44db-919f-5beb53c0990b",
   "metadata": {},
   "outputs": [],
   "source": []
  },
  {
   "cell_type": "code",
   "execution_count": null,
   "id": "084bbfdb-370d-41de-be96-f9188b43e6f0",
   "metadata": {},
   "outputs": [],
   "source": []
  }
 ],
 "metadata": {
  "kernelspec": {
   "display_name": "Python 3 (ipykernel)",
   "language": "python",
   "name": "python3"
  },
  "language_info": {
   "codemirror_mode": {
    "name": "ipython",
    "version": 3
   },
   "file_extension": ".py",
   "mimetype": "text/x-python",
   "name": "python",
   "nbconvert_exporter": "python",
   "pygments_lexer": "ipython3",
   "version": "3.11.4"
  },
  "widgets": {
   "application/vnd.jupyter.widget-state+json": {
    "state": {},
    "version_major": 2,
    "version_minor": 0
   }
  }
 },
 "nbformat": 4,
 "nbformat_minor": 5
}
